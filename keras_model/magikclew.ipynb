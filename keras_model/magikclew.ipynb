{
 "cells": [
  {
   "cell_type": "code",
   "execution_count": 1,
   "metadata": {},
   "outputs": [],
   "source": [
    "from pathlib import Path\n",
    "from typing import List\n",
    "\n",
    "import pandas as pd\n",
    "from PIL import Image"
   ]
  },
  {
   "cell_type": "code",
   "execution_count": 60,
   "metadata": {},
   "outputs": [],
   "source": [
    "crop_dir = Path('data/crop')\n",
    "parent_dir = Path('data/train/image')"
   ]
  },
  {
   "cell_type": "code",
   "execution_count": 3,
   "metadata": {},
   "outputs": [],
   "source": [
    "def get_files(files_dir: Path, suff: str = 'png') -> List[Path]:\n",
    "    return sorted(Path(files_dir).glob(f'*.{suff}'))"
   ]
  },
  {
   "cell_type": "code",
   "execution_count": 74,
   "metadata": {},
   "outputs": [],
   "source": [
    "def get_frame(image_list: List[Path], parent_dir: Path) -> pd.DataFrame:\n",
    "    location_frame = pd.DataFrame(columns=['parent_file', 'file', 'name', 'x', 'y'])\n",
    "\n",
    "    for image in image_list:\n",
    "        name = image.name\n",
    "        name_list = name.split('.')\n",
    "        parent_name = parent_dir / f'{name_list[0]}.png'\n",
    "        if len(name_list) == 6:\n",
    "            local_row = {\n",
    "                'parent_file': parent_name,\n",
    "                'file': image,\n",
    "                'name': name,\n",
    "                'x': int(name_list[2]),\n",
    "                'y': int(name_list[4]),\n",
    "            }   \n",
    "            location_frame = location_frame.append(local_row, ignore_index=True)\n",
    "    return location_frame"
   ]
  },
  {
   "cell_type": "code",
   "execution_count": 76,
   "metadata": {},
   "outputs": [],
   "source": [
    "def clew(name: Path, location_frame: pd.DataFrame) -> None:\n",
    "    print(location_frame)\n",
    "    parent_image = Image.open(name)    \n",
    "    cash_frame = location_frame.loc[location_frame['parent_file']==name]\n",
    "    mode, color = 'RGB',(250,250,250)\n",
    "    new_im = Image.new(mode, (parent_image.size), color)\n",
    "    for _, row in cash_frame.iterrows():\n",
    "        cash_image = Image.open(row['file'])\n",
    "        new_im.paste(cash_image, (row['x'],row['y']))\n",
    "    new_im.show()"
   ]
  },
  {
   "cell_type": "code",
   "execution_count": 66,
   "metadata": {},
   "outputs": [],
   "source": [
    "def run_clew(parent_dir: Path, crop_dir: Path):    \n",
    "    image_list = get_files(parent_dir)\n",
    "    crop_list = get_files(crop_dir)\n",
    "    for parent_name in image_list:\n",
    "        location_frame = get_frame(crop_list, parent_dir)\n",
    "        clew(parent_name, location_frame)"
   ]
  },
  {
   "cell_type": "code",
   "execution_count": null,
   "metadata": {},
   "outputs": [],
   "source": [
    "run_clew(parent_dir, crop_dir)"
   ]
  },
  {
   "cell_type": "code",
   "execution_count": null,
   "metadata": {},
   "outputs": [],
   "source": [
    "\n",
    "  \n",
    "img_01 = Image.open(\"digit-number-img-0.jpg\")\n",
    "img_02 = Image.open(\"digit-number-img-1.jpg\")\n",
    "img_03 = Image.open(\"digit-number-img-2.jpg\")\n",
    "img_04 = Image.open(\"digit-number-img-3.jpg\")\n",
    "  \n",
    "img_01_size = img_01.size\n",
    "img_02_size = img_02.size\n",
    "img_03_size = img_02.size\n",
    "img_02_size = img_02.size\n",
    "  \n",
    "print('img 1 size: ', img_01_size)\n",
    "print('img 2 size: ', img_02_size)\n",
    "print('img 3 size: ', img_03_size)\n",
    "print('img 4 size: ', img_03_size)\n",
    "  \n",
    "new_im = Image.new('RGB', (2*img_01_size[0],2*img_01_size[1]), (250,250,250))\n",
    "  \n",
    "new_im.paste(img_01, (0,0))\n",
    "new_im.paste(img_02, (img_01_size[0],0))\n",
    "new_im.paste(img_03, (0,img_01_size[1]))\n",
    "new_im.paste(img_04, (img_01_size[0],img_01_size[1]))\n",
    "  \n",
    "new_im.save(\"merged_images.png\", \"PNG\")\n",
    "new_im.show()"
   ]
  }
 ],
 "metadata": {
  "kernelspec": {
   "display_name": "Python 3.10.0 ('venv': venv)",
   "language": "python",
   "name": "python3"
  },
  "language_info": {
   "codemirror_mode": {
    "name": "ipython",
    "version": 3
   },
   "file_extension": ".py",
   "mimetype": "text/x-python",
   "name": "python",
   "nbconvert_exporter": "python",
   "pygments_lexer": "ipython3",
   "version": "3.10.0"
  },
  "orig_nbformat": 4,
  "vscode": {
   "interpreter": {
    "hash": "e2692c6ea67815afbd3086dcc2dd7c21e2d4b34730287642bd95194716734074"
   }
  }
 },
 "nbformat": 4,
 "nbformat_minor": 2
}
