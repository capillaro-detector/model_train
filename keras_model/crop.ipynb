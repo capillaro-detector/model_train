{
 "cells": [
  {
   "cell_type": "code",
   "execution_count": 7,
   "metadata": {},
   "outputs": [],
   "source": [
    "from PIL import Image"
   ]
  },
  {
   "cell_type": "code",
   "execution_count": 9,
   "metadata": {},
   "outputs": [
    {
     "name": "stdout",
     "output_type": "stream",
     "text": [
      "data/train/image/787.png (0, 0, 256, 256)\n",
      "data/train/image/787.png (0, 256, 256, 512)\n",
      "data/train/image/787.png (0, 512, 256, 768)\n",
      "data/train/image/787.png (0, 768, 256, 1024)\n",
      "data/train/image/787.png (0, 1024, 256, 1231)\n",
      "data/train/image/787.png (256, 0, 512, 256)\n",
      "data/train/image/787.png (256, 256, 512, 512)\n",
      "data/train/image/787.png (256, 512, 512, 768)\n",
      "data/train/image/787.png (256, 768, 512, 1024)\n",
      "data/train/image/787.png (256, 1024, 512, 1231)\n",
      "data/train/image/787.png (512, 0, 768, 256)\n",
      "data/train/image/787.png (512, 256, 768, 512)\n",
      "data/train/image/787.png (512, 512, 768, 768)\n",
      "data/train/image/787.png (512, 768, 768, 1024)\n",
      "data/train/image/787.png (512, 1024, 768, 1231)\n",
      "data/train/image/787.png (768, 0, 1024, 256)\n",
      "data/train/image/787.png (768, 256, 1024, 512)\n",
      "data/train/image/787.png (768, 512, 1024, 768)\n",
      "data/train/image/787.png (768, 768, 1024, 1024)\n",
      "data/train/image/787.png (768, 1024, 1024, 1231)\n",
      "data/train/image/787.png (1024, 0, 1280, 256)\n",
      "data/train/image/787.png (1024, 256, 1280, 512)\n",
      "data/train/image/787.png (1024, 512, 1280, 768)\n",
      "data/train/image/787.png (1024, 768, 1280, 1024)\n",
      "data/train/image/787.png (1024, 1024, 1280, 1231)\n",
      "data/train/image/787.png (1280, 0, 1536, 256)\n",
      "data/train/image/787.png (1280, 256, 1536, 512)\n",
      "data/train/image/787.png (1280, 512, 1536, 768)\n",
      "data/train/image/787.png (1280, 768, 1536, 1024)\n",
      "data/train/image/787.png (1280, 1024, 1536, 1231)\n",
      "data/train/image/787.png (1536, 0, 1623, 256)\n",
      "data/train/image/787.png (1536, 256, 1623, 512)\n",
      "data/train/image/787.png (1536, 512, 1623, 768)\n",
      "data/train/image/787.png (1536, 768, 1623, 1024)\n",
      "data/train/image/787.png (1536, 1024, 1623, 1231)\n"
     ]
    }
   ],
   "source": [
    "infile = 'data/train/image/787.png'\n",
    "chopsize = 256\n",
    "\n",
    "img = Image.open(infile)\n",
    "width, height = img.size\n",
    "\n",
    "# Save Chops of original image\n",
    "for x0 in range(0, width, chopsize):\n",
    "   for y0 in range(0, height, chopsize):\n",
    "      box = (x0, y0,\n",
    "             x0+chopsize if x0+chopsize <  width else  width - 1,\n",
    "             y0+chopsize if y0+chopsize < height else height - 1)\n",
    "      print('%s %s' % (infile, box))\n",
    "      img.crop(box).save('%s.x.%03d.y.%03d.png' % (infile.replace('.png',''), x0, y0))"
   ]
  },
  {
   "cell_type": "code",
   "execution_count": null,
   "metadata": {},
   "outputs": [],
   "source": []
  }
 ],
 "metadata": {
  "kernelspec": {
   "display_name": "Python 3.10.0 ('venv': venv)",
   "language": "python",
   "name": "python3"
  },
  "language_info": {
   "codemirror_mode": {
    "name": "ipython",
    "version": 3
   },
   "file_extension": ".py",
   "mimetype": "text/x-python",
   "name": "python",
   "nbconvert_exporter": "python",
   "pygments_lexer": "ipython3",
   "version": "3.10.0"
  },
  "orig_nbformat": 4,
  "vscode": {
   "interpreter": {
    "hash": "e2692c6ea67815afbd3086dcc2dd7c21e2d4b34730287642bd95194716734074"
   }
  }
 },
 "nbformat": 4,
 "nbformat_minor": 2
}
