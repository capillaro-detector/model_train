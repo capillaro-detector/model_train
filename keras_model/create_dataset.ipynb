{
 "cells": [
  {
   "cell_type": "code",
   "execution_count": 6,
   "metadata": {},
   "outputs": [],
   "source": [
    "import glob\n",
    "import json\n",
    "from pathlib import Path\n",
    "\n",
    "import matplotlib.pyplot as plt\n",
    "import albumentations as A\n",
    "from albumentations.pytorch import ToTensorV2\n",
    "import cv2\n",
    "import numpy as np\n",
    "import pandas as pd\n",
    "from torch.utils.data import Dataset"
   ]
  },
  {
   "cell_type": "markdown",
   "metadata": {},
   "source": [
    "## Датасет\n",
    "\n",
    "Прежде чем разбираться с моделями, нам надо в первую очередь разобраться с тем, как грузить датасет. Давайте напишем класс в торче для этого."
   ]
  },
  {
   "cell_type": "code",
   "execution_count": null,
   "metadata": {},
   "outputs": [],
   "source": [
    "# Задаем преобразование изображений\n",
    "size = 1024\n",
    "train_list = [A.LongestMaxSize(size, interpolation=cv2.INTER_CUBIC),\n",
    "              A.PadIfNeeded(size, size),\n",
    "              ToTensorV2(transpose_mask=True),\n",
    "              ]\n",
    "eval_list = [A.LongestMaxSize(size, interpolation=cv2.INTER_CUBIC),\n",
    "              A.PadIfNeeded(size, size),\n",
    "              ToTensorV2(transpose_mask=True)]\n",
    "\n",
    "transforms = {'train': A.Compose(train_list), 'test': A.Compose(eval_list)}\n"
   ]
  },
  {
   "cell_type": "code",
   "execution_count": 14,
   "metadata": {},
   "outputs": [],
   "source": [
    "from get_dataset import EyeDataset\n",
    "# Инициализируем датасет\n",
    "dataset = EyeDataset(\"dataset/train_dataset_mc\")\n",
    "\n"
   ]
  },
  {
   "cell_type": "code",
   "execution_count": 16,
   "metadata": {},
   "outputs": [],
   "source": [
    "nums = {'nums': [x for x in range(len(dataset))]}\n",
    "dataset_df = pd.DataFrame(nums)\n",
    "dataset_df.to_csv('dataset/nums.csv', sep=';', index_label='ind')"
   ]
  },
  {
   "cell_type": "code",
   "execution_count": 4,
   "metadata": {},
   "outputs": [],
   "source": [
    "def get_df(dataset: EyeDataset, df: pd.DataFrame) -> pd.DataFrame:\n",
    "\n",
    "    for ind in range(len(dataset)):\n",
    "        try:\n",
    "            new_row = {'image': dataset[ind]['image'], 'mask': dataset[ind]['mask']}\n",
    "            df = df.append(new_row, ignore_index=True)\n",
    "        except:\n",
    "            continue\n",
    "\n",
    "    yield df"
   ]
  },
  {
   "cell_type": "code",
   "execution_count": 7,
   "metadata": {},
   "outputs": [],
   "source": [
    "dataset_df = pd.DataFrame(columns=['image', 'mask'])\n",
    "#dataset_df = get_df(dataset, dataset_df)\n"
   ]
  },
  {
   "cell_type": "code",
   "execution_count": 6,
   "metadata": {},
   "outputs": [
    {
     "data": {
      "text/plain": [
       "<generator object get_df at 0x7f35e0e05e70>"
      ]
     },
     "execution_count": 6,
     "metadata": {},
     "output_type": "execute_result"
    }
   ],
   "source": [
    "#dataset_df"
   ]
  },
  {
   "cell_type": "code",
   "execution_count": null,
   "metadata": {},
   "outputs": [],
   "source": [
    "test_dict = {'image': dataset['image'], 'mask': dataset['mask']}\n",
    "dataset_df = pd.DataFrame(test_dict)\n",
    "dataset_df"
   ]
  },
  {
   "cell_type": "code",
   "execution_count": null,
   "metadata": {},
   "outputs": [],
   "source": [
    "img_arr = dataset_df.loc[0, 'image']\n",
    "mask_arr = dataset_df.loc[0, 'mask']\n",
    "print(dataset[0]['image_dir'])"
   ]
  },
  {
   "cell_type": "code",
   "execution_count": null,
   "metadata": {},
   "outputs": [],
   "source": [
    "fig, axes = plt.subplots(nrows=1, ncols=2, figsize=(25,25))\n",
    "axes[0].imshow(img_arr)\n",
    "axes[1].imshow(mask_arr[..., 0])\n",
    "plt.show"
   ]
  },
  {
   "cell_type": "code",
   "execution_count": null,
   "metadata": {},
   "outputs": [],
   "source": [
    "import PIL\n",
    "from PIL import Image\n",
    "\n",
    "im = PIL.Image.fromarray(np.uint8(img_arr))"
   ]
  },
  {
   "cell_type": "code",
   "execution_count": null,
   "metadata": {},
   "outputs": [],
   "source": [
    "im1 = Image.open('dataset/train_dataset_mc/342.png')\n",
    "im2 = Image.fromarray(np.uint8(mask_arr))\n"
   ]
  },
  {
   "cell_type": "code",
   "execution_count": null,
   "metadata": {},
   "outputs": [],
   "source": [
    "im1.mode, im2.mode"
   ]
  },
  {
   "cell_type": "code",
   "execution_count": null,
   "metadata": {},
   "outputs": [],
   "source": [
    "im2_1 = im2.convert('RGB')"
   ]
  },
  {
   "cell_type": "code",
   "execution_count": null,
   "metadata": {},
   "outputs": [],
   "source": [
    "blended = Image.blend(im1, im2_1, alpha=0.99)\n",
    "blended.save(\"blended.png\")"
   ]
  },
  {
   "cell_type": "code",
   "execution_count": null,
   "metadata": {},
   "outputs": [],
   "source": [
    "im2_1.show()"
   ]
  },
  {
   "cell_type": "code",
   "execution_count": null,
   "metadata": {},
   "outputs": [],
   "source": [
    "cv2.imwrite('cv2.png', img_arr.astype(np.uint8))"
   ]
  },
  {
   "cell_type": "code",
   "execution_count": null,
   "metadata": {},
   "outputs": [],
   "source": [
    "def keras_generator(gen_df: pd.DataFrame, batch_size: int):\n",
    "    while True:\n",
    "        x_batch = []\n",
    "        y_batch = []\n",
    "        \n",
    "        for i in range(batch_size):\n",
    "            img, mask = gen_df.sample(1).values[0]\n",
    "            \n",
    "            img = cv2.resize(img, (256,256))\n",
    "            mask = cv2.resize(mask, (256,256))\n",
    "\n",
    "            x_batch += [img]\n",
    "            y_batch += [mask[..., 0]]\n",
    "\n",
    "        x_batch = np.array(x_batch)\n",
    "        y_batch = np.array(y_batch)\n",
    "\n",
    "        yield x_batch, np.expand_dims(y_batch, -1)"
   ]
  },
  {
   "cell_type": "code",
   "execution_count": null,
   "metadata": {},
   "outputs": [],
   "source": [
    "for x, y in keras_generator(dataset_df, 16):\n",
    "    break\n",
    "x.shape, y.shape"
   ]
  }
 ],
 "metadata": {
  "kernelspec": {
   "display_name": "Python 3.10.0 ('venv': venv)",
   "language": "python",
   "name": "python3"
  },
  "language_info": {
   "codemirror_mode": {
    "name": "ipython",
    "version": 3
   },
   "file_extension": ".py",
   "mimetype": "text/x-python",
   "name": "python",
   "nbconvert_exporter": "python",
   "pygments_lexer": "ipython3",
   "version": "3.10.0"
  },
  "orig_nbformat": 4,
  "vscode": {
   "interpreter": {
    "hash": "e2692c6ea67815afbd3086dcc2dd7c21e2d4b34730287642bd95194716734074"
   }
  }
 },
 "nbformat": 4,
 "nbformat_minor": 2
}
