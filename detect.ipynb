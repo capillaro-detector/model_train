{
 "cells": [
  {
   "cell_type": "code",
   "execution_count": 10,
   "metadata": {},
   "outputs": [],
   "source": [
    "from pathlib import Path\n",
    "import shutil\n",
    "\n",
    "import cv2\n",
    "from PIL import Image\n",
    "\n",
    "from yolov5 import detect\n",
    "\n",
    "model = 'yolov5x.pt'\n",
    "file_storage = 'recognizer/file_storage'\n",
    "\n",
    "\n",
    "def read_labels(labels: Path) -> list[list[str]]:\n",
    "    with open(labels, 'r') as label:\n",
    "        coord = label.readlines()\n",
    "\n",
    "    boxes = []\n",
    "    for box in coord:\n",
    "        box = box.replace('\\n', '')\n",
    "        box_list = box.split()\n",
    "        boxes.append(box_list)\n",
    "\n",
    "    labels_dir = labels.parent\n",
    "    shutil.copy(labels, labels_dir.parent / labels.name)\n",
    "    shutil.rmtree(labels_dir, ignore_errors=True)\n",
    "\n",
    "    return boxes\n",
    "\n",
    "\n",
    "def write_image(image_path: Path, boxes: list):\n",
    "    image = cv2.imread(str(image_path))\n",
    "    height, width, _ = image.shape\n",
    "\n",
    "    for box in boxes:\n",
    "        x = int(float(box[1]) * width)\n",
    "        y = int(float(box[2]) * height)\n",
    "        cv2.circle(image, (x, y), 3, (0, 255, 0), 4)\n",
    "\n",
    "    msg = f'Warlus number = {len(boxes)}'\n",
    "    cv2.putText(image, msg, (50, 60), cv2.FONT_HERSHEY_SIMPLEX, 2, (0, 255, 0), 10, cv2.LINE_AA)\n",
    "    new_image = Path(image_path.parent, f'{image_path.stem}_yolov3{image_path.suffix}')\n",
    "    cv2.imwrite(new_image, image)\n",
    "\n",
    "\n",
    "\n",
    "def get_number(image_path: Path) -> int:\n",
    "    im = Image.open(str(image_path))\n",
    "    detect.run(\n",
    "        weights=model,\n",
    "        source=str(image_path),\n",
    "        imgsz=im.size,\n",
    "        nosave=False,\n",
    "        save_txt=True,\n",
    "        save_conf=True,\n",
    "        project=file_storage,\n",
    "    )\n",
    "    labels = Path(file_storage, 'exp', f'{image_path.stem}.txt')\n",
    "    boxes = read_labels(labels)\n",
    "    write_image(image_path, boxes)\n",
    "    #return len(boxes)"
   ]
  },
  {
   "cell_type": "code",
   "execution_count": 15,
   "metadata": {},
   "outputs": [
    {
     "name": "stderr",
     "output_type": "stream",
     "text": [
      "YOLOv5 🚀 v6.2-128-ge8a9c5a Python-3.10.0 torch-1.12.1+cu102 CPU\n",
      "\n",
      "Fusing layers... \n",
      "Model summary: 206 layers, 3087256 parameters, 0 gradients, 4.2 GFLOPs\n",
      "WARNING: --img-size [1624, 1232] must be multiple of max stride 64, updating to [1664, 1280]\n",
      "image 1/1 /home/zorkin/Yandex.Disk/Обучение/Hackathon/vladivostok_chempionat/model_train/foto/787.png: 1024x1280 4 veinss, 129.5ms\n",
      "Speed: 2.1ms pre-process, 129.5ms inference, 0.5ms NMS per image at shape (1, 3, 1664, 1280)\n",
      "Results saved to \u001b[1mrecognizer/file_storage/exp2\u001b[0m\n",
      "1 labels saved to recognizer/file_storage/exp2/labels\n"
     ]
    },
    {
     "ename": "FileNotFoundError",
     "evalue": "[Errno 2] No such file or directory: 'recognizer/file_storage/exp/787.txt'",
     "output_type": "error",
     "traceback": [
      "\u001b[0;31m---------------------------------------------------------------------------\u001b[0m",
      "\u001b[0;31mFileNotFoundError\u001b[0m                         Traceback (most recent call last)",
      "Cell \u001b[0;32mIn [15], line 2\u001b[0m\n\u001b[1;32m      1\u001b[0m foto \u001b[38;5;241m=\u001b[39m Path(\u001b[38;5;124m'\u001b[39m\u001b[38;5;124mfoto/787.png\u001b[39m\u001b[38;5;124m'\u001b[39m)\n\u001b[0;32m----> 2\u001b[0m \u001b[43mget_number\u001b[49m\u001b[43m(\u001b[49m\u001b[43mfoto\u001b[49m\u001b[43m)\u001b[49m\n",
      "Cell \u001b[0;32mIn [10], line 58\u001b[0m, in \u001b[0;36mget_number\u001b[0;34m(image_path)\u001b[0m\n\u001b[1;32m     48\u001b[0m detect\u001b[38;5;241m.\u001b[39mrun(\n\u001b[1;32m     49\u001b[0m     weights\u001b[38;5;241m=\u001b[39mmodel,\n\u001b[1;32m     50\u001b[0m     source\u001b[38;5;241m=\u001b[39m\u001b[38;5;28mstr\u001b[39m(image_path),\n\u001b[0;32m   (...)\u001b[0m\n\u001b[1;32m     55\u001b[0m     project\u001b[38;5;241m=\u001b[39mfile_storage,\n\u001b[1;32m     56\u001b[0m )\n\u001b[1;32m     57\u001b[0m labels \u001b[38;5;241m=\u001b[39m Path(file_storage, \u001b[38;5;124m'\u001b[39m\u001b[38;5;124mexp\u001b[39m\u001b[38;5;124m'\u001b[39m, \u001b[38;5;124mf\u001b[39m\u001b[38;5;124m'\u001b[39m\u001b[38;5;132;01m{\u001b[39;00mimage_path\u001b[38;5;241m.\u001b[39mstem\u001b[38;5;132;01m}\u001b[39;00m\u001b[38;5;124m.txt\u001b[39m\u001b[38;5;124m'\u001b[39m)\n\u001b[0;32m---> 58\u001b[0m boxes \u001b[38;5;241m=\u001b[39m \u001b[43mread_labels\u001b[49m\u001b[43m(\u001b[49m\u001b[43mlabels\u001b[49m\u001b[43m)\u001b[49m\n\u001b[1;32m     59\u001b[0m write_image(image_path, boxes)\n",
      "Cell \u001b[0;32mIn [10], line 14\u001b[0m, in \u001b[0;36mread_labels\u001b[0;34m(labels)\u001b[0m\n\u001b[1;32m     13\u001b[0m \u001b[38;5;28;01mdef\u001b[39;00m \u001b[38;5;21mread_labels\u001b[39m(labels: Path) \u001b[38;5;241m-\u001b[39m\u001b[38;5;241m>\u001b[39m \u001b[38;5;28mlist\u001b[39m[\u001b[38;5;28mlist\u001b[39m[\u001b[38;5;28mstr\u001b[39m]]:\n\u001b[0;32m---> 14\u001b[0m     \u001b[38;5;28;01mwith\u001b[39;00m \u001b[38;5;28;43mopen\u001b[39;49m\u001b[43m(\u001b[49m\u001b[43mlabels\u001b[49m\u001b[43m,\u001b[49m\u001b[43m \u001b[49m\u001b[38;5;124;43m'\u001b[39;49m\u001b[38;5;124;43mr\u001b[39;49m\u001b[38;5;124;43m'\u001b[39;49m\u001b[43m)\u001b[49m \u001b[38;5;28;01mas\u001b[39;00m label:\n\u001b[1;32m     15\u001b[0m         coord \u001b[38;5;241m=\u001b[39m label\u001b[38;5;241m.\u001b[39mreadlines()\n\u001b[1;32m     17\u001b[0m     boxes \u001b[38;5;241m=\u001b[39m []\n",
      "\u001b[0;31mFileNotFoundError\u001b[0m: [Errno 2] No such file or directory: 'recognizer/file_storage/exp/787.txt'"
     ]
    }
   ],
   "source": [
    "foto = Path('foto/787.png')\n",
    "get_number(foto)"
   ]
  },
  {
   "cell_type": "code",
   "execution_count": null,
   "metadata": {},
   "outputs": [],
   "source": []
  }
 ],
 "metadata": {
  "kernelspec": {
   "display_name": "Python 3.10.0 ('venv': venv)",
   "language": "python",
   "name": "python3"
  },
  "language_info": {
   "codemirror_mode": {
    "name": "ipython",
    "version": 3
   },
   "file_extension": ".py",
   "mimetype": "text/x-python",
   "name": "python",
   "nbconvert_exporter": "python",
   "pygments_lexer": "ipython3",
   "version": "3.10.0"
  },
  "orig_nbformat": 4,
  "vscode": {
   "interpreter": {
    "hash": "e2692c6ea67815afbd3086dcc2dd7c21e2d4b34730287642bd95194716734074"
   }
  }
 },
 "nbformat": 4,
 "nbformat_minor": 2
}
